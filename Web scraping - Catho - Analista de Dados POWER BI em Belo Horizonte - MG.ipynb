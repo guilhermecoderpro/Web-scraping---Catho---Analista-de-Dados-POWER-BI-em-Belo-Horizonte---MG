{
 "cells": [
  {
   "cell_type": "markdown",
   "id": "278f3b38",
   "metadata": {},
   "source": [
    "### Web scraping - Catho - Analista de Dados POWER BI em Belo Horizonte - MG"
   ]
  },
  {
   "cell_type": "code",
   "execution_count": 2,
   "id": "9cd6f0d2",
   "metadata": {},
   "outputs": [],
   "source": [
    "from bs4 import BeautifulSoup as bs\n",
    "import requests as rq"
   ]
  },
  {
   "cell_type": "code",
   "execution_count": 3,
   "id": "2a36ee67",
   "metadata": {},
   "outputs": [],
   "source": [
    "url = 'https://www.catho.com.br/vagas/analista-de-dados/belo-horizonte-mg/?q=Analista%20de%20Dados&order=score&faixa_sal_id=4&faixa_sal_id_combinar=1&cidade_id%5B0%5D=4096'"
   ]
  },
  {
   "cell_type": "code",
   "execution_count": 4,
   "id": "5c47bd41",
   "metadata": {},
   "outputs": [
    {
     "name": "stdout",
     "output_type": "stream",
     "text": [
      "<Response [200]>\n"
     ]
    }
   ],
   "source": [
    "r = rq.get(url)\n",
    "print(r)"
   ]
  },
  {
   "cell_type": "code",
   "execution_count": 5,
   "id": "ac6110df",
   "metadata": {},
   "outputs": [],
   "source": [
    "soup = bs(r.content, 'html.parser')"
   ]
  },
  {
   "cell_type": "code",
   "execution_count": 6,
   "id": "62d47e91",
   "metadata": {},
   "outputs": [
    {
     "name": "stdout",
     "output_type": "stream",
     "text": [
      "Analista de Dados POWER BI\n"
     ]
    }
   ],
   "source": [
    "#Título da Vaga\n",
    "title = soup.find('div', class_ = \"sc-gipzik gEFjBJ\").text\n",
    "print(title)"
   ]
  },
  {
   "cell_type": "code",
   "execution_count": 21,
   "id": "9b1cb3d3",
   "metadata": {},
   "outputs": [
    {
     "name": "stdout",
     "output_type": "stream",
     "text": [
      "De R$ 4.001,00 a R$ 5.000,00\n"
     ]
    }
   ],
   "source": [
    "#Salário\n",
    "salario = soup.find('div', class_ = 'sc-cJSrbW hqpIYC').text\n",
    "print(salario)"
   ]
  },
  {
   "cell_type": "code",
   "execution_count": 130,
   "id": "4b9e97e8",
   "metadata": {},
   "outputs": [
    {
     "name": "stdout",
     "output_type": "stream",
     "text": [
      "Belo Horizonte - MG (1)\n",
      "                              \n"
     ]
    },
    {
     "data": {
      "text/plain": [
       "'Belo Horizonte - MG'"
      ]
     },
     "execution_count": 130,
     "metadata": {},
     "output_type": "execute_result"
    }
   ],
   "source": [
    "#Localização e número de vagas\n",
    "loca_vagas = soup.find('button', class_ = 'sc-kjoXOD fcitRR').text\n",
    "print(loca_vagas)\n",
    "\n",
    "print(' '*30)\n",
    "\n",
    "loca_1 = loca_vagas.replace('Belo Horizonte - MG (1)', 'Belo Horizonte - MG')\n",
    "loca_1"
   ]
  },
  {
   "cell_type": "code",
   "execution_count": 64,
   "id": "a5a2edfe",
   "metadata": {},
   "outputs": [
    {
     "name": "stdout",
     "output_type": "stream",
     "text": [
      "Publicada em 28/05\n"
     ]
    }
   ],
   "source": [
    "#Data de publicação da vaga\n",
    "data = soup.find('div').find('time', class_ = 'sc-dVhcbM jwYTbE').find('span').text\n",
    "print(data)"
   ]
  },
  {
   "cell_type": "code",
   "execution_count": 45,
   "id": "d6896ef6",
   "metadata": {},
   "outputs": [
    {
     "data": {
      "text/plain": [
       "1"
      ]
     },
     "execution_count": 45,
     "metadata": {},
     "output_type": "execute_result"
    }
   ],
   "source": [
    "#Vagas\n",
    "vagas = soup.find('div', class_ = 'sc-cJSrbW hqpIYC').next_element.next_element.text\n",
    "\n",
    "vagas1 = vagas.replace('1 vaga:', '1')\n",
    "\n",
    "vagas_int = int(vagas1)\n",
    "vagas_int"
   ]
  },
  {
   "cell_type": "code",
   "execution_count": 86,
   "id": "8b7fc48d",
   "metadata": {},
   "outputs": [],
   "source": [
    "todos_elementos = soup.find_all('main')\n",
    "\n",
    "#todos_elementos = soup.find_all('figure')"
   ]
  },
  {
   "cell_type": "code",
   "execution_count": 131,
   "id": "783eedbd",
   "metadata": {},
   "outputs": [
    {
     "name": "stdout",
     "output_type": "stream",
     "text": [
      "Nome do Site de Buscas: Catho\n",
      "Título da Vaga: Analista de Dados POWER BI\n",
      "N° de vagas: 1\n",
      "Salário: De R$ 4.001,00 a R$ 5.000,00\n",
      "Localização: Belo Horizonte - MG (1)\n",
      "Publicação: Publicada em 28/05\n"
     ]
    }
   ],
   "source": [
    "for elementos in todos_elementos:\n",
    "    title = elementos.find('div', class_ = \"sc-gipzik gEFjBJ\").text\n",
    "    salario = elementos.find('div', class_ = 'sc-cJSrbW hqpIYC').text\n",
    "    loca_1 = elementos.find('button', class_ = 'sc-kjoXOD fcitRR').text\n",
    "    data = elementos.find('time', class_ = 'sc-dVhcbM jwYTbE').find('span').text\n",
    "    vagas = elementos.find('div', class_ = 'sc-cJSrbW hqpIYC').next_element.next_element.text\n",
    "   \n",
    "    print('Nome do Site de Buscas: Catho')\n",
    "\n",
    "    print(f'Título da Vaga: {title}')\n",
    "    print(f'N° de vagas: {vagas_int}')\n",
    "    print(f'Salário: {salario}')\n",
    "    print(f'Localização: {loca_1}')\n",
    "    print(f'Publicação: {data}')"
   ]
  }
 ],
 "metadata": {
  "kernelspec": {
   "display_name": "Python 3",
   "language": "python",
   "name": "python3"
  },
  "language_info": {
   "codemirror_mode": {
    "name": "ipython",
    "version": 3
   },
   "file_extension": ".py",
   "mimetype": "text/x-python",
   "name": "python",
   "nbconvert_exporter": "python",
   "pygments_lexer": "ipython3",
   "version": "3.8.5"
  }
 },
 "nbformat": 4,
 "nbformat_minor": 5
}
